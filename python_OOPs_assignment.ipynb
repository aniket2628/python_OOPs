{
  "nbformat": 4,
  "nbformat_minor": 0,
  "metadata": {
    "colab": {
      "provenance": []
    },
    "kernelspec": {
      "name": "python3",
      "display_name": "Python 3"
    },
    "language_info": {
      "name": "python"
    }
  },
  "cells": [
    {
      "cell_type": "markdown",
      "source": [
        "1. What is Object-Oriented Programming (OOP)?\n",
        "\n",
        ">  OOP is a way of writing programs by organizing code into objects. Objects represent real-world things like a book, car, or person and have properties data and actions functions.\n",
        "Classes - A template for creating objects (like a blueprint for a house).\n",
        "Objects - The actual things made from the class (like a built house).\n",
        "Encapsulation - Hiding details and keeping data safe inside objects.\n",
        "Abstraction - Showing only important details, hiding complexity.\n",
        "Inheritance -Allowing new classes to reuse features of existing ones.\n",
        "Polymorphism -Using a single function name for different types of objects.\n",
        "\n",
        "2. What is a class in OOP?\n",
        "\n",
        "> A class is a blueprint or template for creating objects. It defines data and methods that objects of that class will have.\n",
        "\n",
        "3. What is an object in OOP?\n",
        "\n",
        "> object is an instance of a class which have have all the methods of class.\n",
        "\n",
        "4. What is the difference between abstraction and encapsulation?\n",
        "\n",
        "> Abstraction hides unnecessary details while encapsulation prevents direct access to methods abstraction simplifies code while encapsulation prevents from making unnnecessary modification.\n",
        "\n",
        "5. What are dunder methods in Python?\n",
        "\n",
        "> Dunder method are special methods in Python that have double underscores (__) before and after their names. They are also known as \"magic methods\" because they allow objects to interact with built-in Python features like operators and functions.\n",
        "\n",
        "6. Explain the concept of inheritance in OOP?\n",
        "\n",
        "> Inheritance in python refers to inheriting the methods of different class into new class. it allows a class to inherit the methods of other classes\n",
        "\n",
        "7. What is polymorphism in OOP?\n",
        "\n",
        "> Polymorphism in python refers to different functionality of method according to different objects of different class.a single action that behaves differently depending on the object\n",
        "\n",
        "8. How is encapsulation achieved in Python?\\\n",
        "\n",
        "> Encapsulation in Python is achieved by restricting direct access to an object's data and allowing controlled access through methods. This protects the data from unintended modification.\n",
        "\n",
        "Python achieves encapsulation using:\n",
        "\n",
        "Public members -Accessible from anywhere.\n",
        "Protected members (_variable) - Should not be accessed directly (by convention).\n",
        "Private members (__variable)-Cannot be accessed directly outside the class.\n",
        "\n",
        "9.  What is a constructor in Python?\n",
        "\n",
        "> A constructor in Python is a special method used to initialize an object when it is created. It is defined using the __init__ method inside a class.\n",
        "\n",
        "Think of a constructor as a setup function that runs automatically when you create an object, assigning values to its attributes\n",
        "\n",
        "10.  What are class and static methods in Python?\n",
        "\n",
        "> Python provides two special types of methods that are different from regular instance methods:\n",
        "\n",
        "Class Methods (@classmethod) - Work with the class itself, not individual instances.\n",
        "Static Methods (@staticmethod) - Independent methods that don't access instance or class variables.\n",
        "\n",
        "11.  What is method overloading in Python?\n",
        "\n",
        "> Method overloading allows a class to have multiple methods with the same name but different parameters. However, Python does not support traditional method overloading like other languages.\n",
        "Instead, Python achieves method overloading using:\n",
        "\n",
        "Default arguments\n",
        "Variable-length arguments (*args and **kwargs)\n",
        "\n",
        "12. What is method overriding in OOP?\n",
        "\n",
        "> Method overriding is achieved when two function with same name in  different classes are used and when called it behaves according two the object which is defined in the respective class or the preference in the class.\n",
        "\n",
        "13. What is a property decorator in Python?\n",
        "\n",
        "> property decorators help in accesing private variable in a class and helps in changing the values through getter,setter and delete through deleter keywords\n",
        "\n",
        "14. Why is polymorphism important in OOP?\n",
        "\n",
        "> polymorphism  allows objects of different classes to be treated as objects of a common base class making the code more flexible, reusable and scalable.\n",
        "\n",
        "15. What is an abstract class in Python?\n",
        "\n",
        "> abstract class has methods which are called in function to not give an error when not defined specifically in that method.\n",
        "\n",
        "16. What are the advantages of OOP?\n",
        "\n",
        "> OOP in programming organizes code into objects making it more structured, reusable, and scalable. It provides several advantages like reusablity , flexiblity and encapsulation\n",
        "\n",
        "17.  What is the difference between a class variable and an instance variable?\n",
        "\n",
        ">  Class variable is shared by all the objects of class by instance variable is specific to object in which the variable is defined.\n",
        "\n",
        "18. What is multiple inheritance in Python?\n",
        "\n",
        "> Multiple inheritance is when a child class inheritis methods from more than one class.\n",
        "\n",
        "19. Explain the purpose of '_str__' and '__repr__'  methods in Python?\n",
        "\n",
        ">  __str__ is used by str() and print(). It is meant to be a readable and user-friendly representation of the object. It should return a nicely formatted string that is understandable for end-users.\n",
        "\n",
        "__repr__ is used by repr(), the interactive interpreter, and debugging tools. It should return an unambiguous string representation of the object. Ideally, the output of __repr__ should be a valid Python expression that can recreate the object.\n",
        "\n",
        "20. What is the significance of the ‘super()’ function in Python?\n",
        "\n",
        "> super() function is used to call name function in a child class from parent class allowing method overriding and allowing access to parent class function\n",
        "\n",
        "21. What is the significance of the __del__ method in Python ?\n",
        "\n",
        ">The __del__ method in Python is called automatically when an object is deleted or no longer needed. It acts like a destructor helping clean up resources such as closing files or network connections.\n",
        "\n",
        "__del__ is important because it cleans up resources like closing files and databases, runs automatically when an object is deleted, and helps with debugging by logging when objects are destroyed.\n",
        "\n",
        "22.  What is the difference between @staticmethod and @classmethod in Python?\n",
        "\n",
        "> A @staticmethod in Python is a method that belongs to a class but does not receive the instance (self) or class (cls) as its first argument. It behaves like a regular function but is placed inside a class for better organization. Since it does not depend on instance or class variables, it is often used for utility functions.\n",
        "\n",
        "A @classmethod, on the other hand, receives the class (cls) as its first argument, allowing it to modify class-level attributes. It is useful for factory methods or when a method needs access to class variables rather than instance variables.\n",
        "\n",
        "23.  How does polymorphism work in Python with inheritance?\n",
        "\n",
        "> Polymorphism in Python allows objects of different classes to be treated as instances of a common base class. When combined with inheritance, polymorphism enables a subclass to override methods from its parent class while still being used interchangeably with other subclasses or the parent class itself.\n",
        "\n",
        "24.   What is method chaining in Python OOP?\n",
        "\n",
        ">  Method chaining in Python OOP is a technique where multiple method calls are linked together in a single statement using dot notation. This works by having each method return the instance (self), allowing further method calls on the same object.\n",
        "\n",
        "25. What is the purpose of the __call__ method in Python?\n",
        "\n",
        "> The __call__ method in Python allows an instance of a class to be called as if it were a function. When an object with a __call__ method is invoked using parentheses, Python automatically executes the __call__ method. This is useful for creating callable objects, function wrappers, and implementing decorators."
      ],
      "metadata": {
        "id": "X6Wp_bfrtwN3"
      }
    },
    {
      "cell_type": "code",
      "source": [
        "#1. Create a parent class Animal with a method speak() that prints a generic message. Create a child class Dog\n",
        "#    that overrides the speak() method to print \"Bark!\".\n",
        "\n",
        "class Animal:\n",
        "  def speak(self):\n",
        "    print(\"animal sound\")\n",
        "\n",
        "class Dog( Animal):\n",
        "  def speak(self):\n",
        "    print(\"Bark!\")\n",
        "\n",
        "a= Animal()\n",
        "d= Dog()\n",
        "a.speak()\n",
        "d.speak()"
      ],
      "metadata": {
        "id": "a2XOT3wOx7Rg",
        "colab": {
          "base_uri": "https://localhost:8080/"
        },
        "outputId": "2ef7955d-fc08-4839-df2c-489f90c00227"
      },
      "execution_count": 2,
      "outputs": [
        {
          "output_type": "stream",
          "name": "stdout",
          "text": [
            "animal sound\n",
            "Bark!\n"
          ]
        }
      ]
    },
    {
      "cell_type": "code",
      "source": [
        "#2. Write a program to create an abstract class Shape with a method area(). Derive classes Circle and Rectangle\n",
        "#   from it and implement the area() method in both.\n",
        "import abc\n",
        "class Shape:\n",
        "  @abc.abstractmethod\n",
        "  def area(self):\n",
        "    pass\n",
        "class Circle(Shape):\n",
        "  def area(self):\n",
        "    print(\"area of circle is pi*r*r\")\n",
        "class Rectangle(Shape):\n",
        "  def area(self):\n",
        "    print(\"area of rectangle is len* breadth\")\n",
        "\n",
        "\n",
        "c= Circle()\n",
        "r= Rectangle()\n",
        "c.area()\n",
        "r.area()"
      ],
      "metadata": {
        "colab": {
          "base_uri": "https://localhost:8080/"
        },
        "id": "iHKExlthWzTT",
        "outputId": "0cf95820-0159-4eac-d59f-0a5458d5cd94"
      },
      "execution_count": 3,
      "outputs": [
        {
          "output_type": "stream",
          "name": "stdout",
          "text": [
            "area of circle is pi*r*r\n",
            "area of rectangle is len* breadth\n"
          ]
        }
      ]
    },
    {
      "cell_type": "code",
      "source": [
        "#3. Implement a multi-level inheritance scenario where a class Vehicle has an attribute type. Derive a class Car\n",
        "#   and further derive a class ElectricCar that adds a battery attribute\n",
        "\n",
        "\n",
        "class Vehicle:\n",
        "    def __init__(self, type):\n",
        "        self.type = type\n",
        "\n",
        "    def display_type(self):\n",
        "        print(f\"Vehicle Type: {self.type}\")\n",
        "\n",
        "class Car(Vehicle):\n",
        "    def __init__(self, type, brand):\n",
        "        super().__init__(type)\n",
        "        self.brand = brand\n",
        "\n",
        "    def display_brand(self):\n",
        "        print(f\"Car Brand: {self.brand}\")\n",
        "\n",
        "class ElectricCar(Car):\n",
        "    def __init__(self, type, brand, battery):\n",
        "        super().__init__(type, brand)\n",
        "        self.battery = battery\n",
        "\n",
        "    def display_battery(self):\n",
        "        print(f\"Battery Capacity: {self.battery} kWh\")\n",
        "\n",
        "tesla = ElectricCar(\"Sedan\", \"Tesla\", 75)"
      ],
      "metadata": {
        "id": "DcP7_6g2Wzw4"
      },
      "execution_count": null,
      "outputs": []
    },
    {
      "cell_type": "code",
      "source": [
        "#4. Demonstrate polymorphism by creating a base class Bird with a method fly(). Create two derived classes\n",
        "#   Sparrow and Penguin that override the fly() method.\n",
        "class Bird:\n",
        "    def fly(self):\n",
        "        print(\"Birds can fly\")\n",
        "\n",
        "class Sparrow(Bird):\n",
        "    def fly(self):\n",
        "        print(\"Sparrows can fly at high speeds\")\n",
        "class Penguin(Bird):\n",
        "    def fly(self):\n",
        "        print(\"Penguins can not fly \")\n",
        "\n",
        "b= Bird()\n",
        "s= Sparrow()\n",
        "p= Penguin()\n",
        "b.fly()\n",
        "s.fly()\n",
        "p.fly()"
      ],
      "metadata": {
        "colab": {
          "base_uri": "https://localhost:8080/"
        },
        "id": "NqwxvDHVW0C1",
        "outputId": "39ac38fd-d75c-4182-b65b-eaab65db4ffd"
      },
      "execution_count": 5,
      "outputs": [
        {
          "output_type": "stream",
          "name": "stdout",
          "text": [
            "Birds can fly\n",
            "Sparrows can fly at high speeds\n",
            "Penguins can not fly \n"
          ]
        }
      ]
    },
    {
      "cell_type": "code",
      "source": [
        "#5. Write a program to demonstrate encapsulation by creating a class BankAccount with private attributes\n",
        "#   balance and methods to deposit, withdraw, and check balance.\n",
        "class BankAccount:\n",
        "    def __init__(self, balance=0):\n",
        "        self.__balance = balance\n",
        "\n",
        "    def deposit(self, amount):\n",
        "        self.__balance += amount\n",
        "        print(f\"Deposited ${amount}. New balance: ${self.__balance}\")\n",
        "\n",
        "    def withdraw(self, amount):\n",
        "        if amount <= self.__balance:\n",
        "            self.__balance -= amount\n",
        "            print(f\"Withdrew ${amount}. New balance: ${self.__balance}\")\n",
        "        else:\n",
        "            print(\"Insufficient funds\")\n",
        "    def check_balance(self):\n",
        "        print(f\"Current balance: ${self.__balance}\")\n",
        "\n",
        "account = BankAccount(1000)\n",
        "account.deposit(500)\n",
        "account.withdraw(200)\n",
        "account.check_balance()"
      ],
      "metadata": {
        "colab": {
          "base_uri": "https://localhost:8080/"
        },
        "id": "341m5vgaW0NJ",
        "outputId": "2ed1d704-8f47-4d76-f593-d33b8d49fb78"
      },
      "execution_count": 7,
      "outputs": [
        {
          "output_type": "stream",
          "name": "stdout",
          "text": [
            "Deposited $500. New balance: $1500\n",
            "Withdrew $200. New balance: $1300\n",
            "Current balance: $1300\n"
          ]
        }
      ]
    },
    {
      "cell_type": "code",
      "source": [
        "#6. Demonstrate runtime polymorphism using a method play() in a base class Instrument. Derive classes Guitar\n",
        "#   and Piano that implement their own version of play().\n",
        "class Instrument:\n",
        "    def play(self):\n",
        "        print(\"Instrument is playing\")\n",
        "\n",
        "class Guitar(Instrument):\n",
        "    def play(self):\n",
        "        print(\"Guitar is playing\")\n",
        "\n",
        "class Piano(Instrument):\n",
        "    def play(self):\n",
        "        print(\"Piano is playing\")\n",
        "\n",
        "i= Instrument()\n",
        "g= Guitar()\n",
        "p= Piano()\n",
        "i.play()\n",
        "g.play()\n",
        "p.play()"
      ],
      "metadata": {
        "colab": {
          "base_uri": "https://localhost:8080/"
        },
        "id": "T98t6M6BW0Vy",
        "outputId": "cf1f9c5a-29e6-4a6a-98a7-b7bcf267c5d1"
      },
      "execution_count": 8,
      "outputs": [
        {
          "output_type": "stream",
          "name": "stdout",
          "text": [
            "Instrument is playing\n",
            "Guitar is playing\n",
            "Piano is playing\n"
          ]
        }
      ]
    },
    {
      "cell_type": "code",
      "source": [
        "#7. Create a class MathOperations with a class method add_numbers() to add two numbers and a static\n",
        "#   method subtract_numbers() to subtract two numbers.\n",
        "class MathOperations:\n",
        "    @classmethod\n",
        "    def add_numbers(cls, a, b):\n",
        "        return a + b\n",
        "\n",
        "    @staticmethod\n",
        "    def subtract_numbers(a, b):\n",
        "        return a - b\n",
        "print(MathOperations.add_numbers(10, 5))\n",
        "MathOperations.subtract_numbers(10,20)"
      ],
      "metadata": {
        "colab": {
          "base_uri": "https://localhost:8080/"
        },
        "id": "j6Hap6DAW0hC",
        "outputId": "ce13535e-108d-430e-93f5-becc2f3139a4"
      },
      "execution_count": 11,
      "outputs": [
        {
          "output_type": "stream",
          "name": "stdout",
          "text": [
            "15\n"
          ]
        },
        {
          "output_type": "execute_result",
          "data": {
            "text/plain": [
              "-10"
            ]
          },
          "metadata": {},
          "execution_count": 11
        }
      ]
    },
    {
      "cell_type": "code",
      "source": [
        "#8. Implement a class Person with a class method to count the total number of persons created.\n",
        "class Person:\n",
        "    count = 0\n",
        "\n",
        "    def __init__(self, name):\n",
        "        self.name = name\n",
        "        Person.count += 1\n",
        "\n",
        "    @classmethod\n",
        "    def get_count(cls):\n",
        "        return cls.count\n",
        "\n",
        "person1 = Person(\"deepesh\")\n",
        "person2 = Person(\"ishika\")\n",
        "print(Person.get_count())"
      ],
      "metadata": {
        "id": "UFeEMfIXAAhv"
      },
      "execution_count": null,
      "outputs": []
    },
    {
      "cell_type": "code",
      "source": [
        "#9. Write a class Fraction with attributes numerator and denominator. Override the str method to display the\n",
        "#   fraction as \"numerator/denominator\".\n",
        "class Fraction:\n",
        "    def __init__(self, numerator, denominator):\n",
        "        self.numerator = numerator\n",
        "        self.denominator = denominator\n",
        "\n",
        "    def __str__(self):\n",
        "        return f\"{self.numerator}/{self.denominator}\"\n",
        "\n",
        "fraction = Fraction(3, 4)\n",
        "print(fraction)"
      ],
      "metadata": {
        "id": "iJSBa8bKABh0"
      },
      "execution_count": null,
      "outputs": []
    },
    {
      "cell_type": "code",
      "source": [
        "#10.  Demonstrate operator overloading by creating a class Vector and overriding the add method to add two\n",
        "#     vectors\n",
        "class Vector:\n",
        "    def __init__(self, x, y):\n",
        "        self.x = x\n",
        "        self.y = y\n",
        "\n",
        "    def __add__(self, other):\n",
        "        return Vector(self.x + other.x, self.y + other.y)\n",
        "\n",
        "v1 = Vector(1, 2)\n",
        "v2 = Vector(3, 4)\n",
        "v3 = v1 + v2\n",
        "print(v3.x, v3.y)"
      ],
      "metadata": {
        "colab": {
          "base_uri": "https://localhost:8080/"
        },
        "id": "-jV7H50jA6JK",
        "outputId": "fc2ca1b3-8945-426c-a980-29151f39f11f"
      },
      "execution_count": 4,
      "outputs": [
        {
          "output_type": "stream",
          "name": "stdout",
          "text": [
            "4 6\n"
          ]
        }
      ]
    },
    {
      "cell_type": "code",
      "source": [
        "#11. Create a class Person with attributes name and age. Add a method greet() that prints \"Hello, my name is\n",
        "#     {name} and I am {age} years old.\"\n",
        "class Person:\n",
        "    def __init__(self, name, age):\n",
        "        self.name = name\n",
        "        self.age = age\n",
        "\n",
        "    def greet(self):\n",
        "        print(f\"Hello, my name is {self.name} and I am {self.age} years old.\")\n",
        "\n",
        "p= Person(\"shubham\",20)\n",
        "p.greet()"
      ],
      "metadata": {
        "colab": {
          "base_uri": "https://localhost:8080/"
        },
        "id": "bHwCq86SA668",
        "outputId": "09d68aae-54bd-4b9d-d62c-68a8c50b8a19"
      },
      "execution_count": 5,
      "outputs": [
        {
          "output_type": "stream",
          "name": "stdout",
          "text": [
            "Hello, my name is shubham and I am 20 years old.\n"
          ]
        }
      ]
    },
    {
      "cell_type": "code",
      "source": [
        "#12. Implement a class Student with attributes name and grades. Create a method average_grade() to compute\n",
        "#    the average of the grades.\n",
        "class Student:\n",
        "    def __init__(self, name, grades):\n",
        "        self.name = name\n",
        "        self.grades = grades\n",
        "\n",
        "    def average_grade(self):\n",
        "        return sum(self.grades) / len(self.grades)\n",
        "\n",
        "student = Student(\"Rahul\", [85, 90, 78, 92])\n",
        "print(student.average_grade())"
      ],
      "metadata": {
        "id": "JCVJWxfkA7pb"
      },
      "execution_count": null,
      "outputs": []
    },
    {
      "cell_type": "code",
      "source": [
        "#13. Create a class Rectangle with methods set_dimensions() to set the dimensions and area() to calculate the\n",
        "#    area.\n",
        "class Rectangle:\n",
        "    def __init__(self):\n",
        "      pass\n",
        "\n",
        "    def set_dimensions(self, length, width):\n",
        "        self.length = length\n",
        "        self.width = width\n",
        "\n",
        "    def area(self):\n",
        "        return self.length * self.width\n",
        "\n",
        "rectangle = Rectangle()\n",
        "rectangle.set_dimensions(5, 3)\n",
        "print(rectangle.area())"
      ],
      "metadata": {
        "colab": {
          "base_uri": "https://localhost:8080/"
        },
        "id": "z2sF0_R3A78I",
        "outputId": "371e45a4-cdda-48f4-ace4-0b6c6109befd"
      },
      "execution_count": 8,
      "outputs": [
        {
          "output_type": "stream",
          "name": "stdout",
          "text": [
            "15\n"
          ]
        }
      ]
    },
    {
      "cell_type": "code",
      "source": [
        "#14. Create a class Employee with a method calculate_salary() that computes the salary based on hours worked\n",
        "#    and hourly rate. Create a derived class Manager that adds a bonus to the salary.\n",
        "class Employee:\n",
        "    def __init__(self, name, hours_worked, hourly_rate):\n",
        "        self.name = name\n",
        "        self.hours_worked = hours_worked\n",
        "        self.hourly_rate = hourly_rate\n",
        "\n",
        "    def calculate_salary(self):\n",
        "        return self.hours_worked * self.hourly_rate\n",
        "\n",
        "class Manager(Employee):\n",
        "    def __init__(self, name, hours_worked, hourly_rate, bonus):\n",
        "        super().__init__(name, hours_worked, hourly_rate)\n",
        "        self.bonus = bonus\n",
        "\n",
        "    def calculate_salary(self):\n",
        "        base_salary = super().calculate_salary()\n",
        "        return base_salary + self.bonus\n",
        "\n",
        "manager = Manager(\"Rahul\", 40, 50, 1000)\n",
        "print(manager.calculate_salary())"
      ],
      "metadata": {
        "colab": {
          "base_uri": "https://localhost:8080/"
        },
        "id": "nwgs1FTnA8Fz",
        "outputId": "b3b831a8-ed4b-4b7e-bd06-c308c34c21b0"
      },
      "execution_count": 9,
      "outputs": [
        {
          "output_type": "stream",
          "name": "stdout",
          "text": [
            "3000\n"
          ]
        }
      ]
    },
    {
      "cell_type": "code",
      "source": [
        "#15. Create a class Product with attributes name, price, and quantity. Implement a method total_price() that\n",
        "#    calculates the total price of the product.\n",
        "class Product:\n",
        "    def __init__(self, name, price, quantity):\n",
        "        self.name = name\n",
        "        self.price = price\n",
        "        self.quantity = quantity\n",
        "\n",
        "    def total_price(self):\n",
        "        return self.price * self.quantity\n",
        "\n",
        "product = Product(\"Laptop\", 1000, 2)\n",
        "print(product.total_price())"
      ],
      "metadata": {
        "id": "c2Wfe9h1A8OL"
      },
      "execution_count": null,
      "outputs": []
    },
    {
      "cell_type": "code",
      "source": [
        "#16. Create a class Animal with an abstract method sound(). Create two derived classes Cow and Sheep that\n",
        "#    implement the sound() method.\n",
        "import abc\n",
        "class Animal:\n",
        "    @abc.abstractmethod\n",
        "    def sound(self):\n",
        "        pass\n",
        "\n",
        "class Cow(Animal):\n",
        "    def sound(self):\n",
        "        print(\"moo!\")\n",
        "\n",
        "class Sheep(Animal):\n",
        "    def sound(self):\n",
        "        print(\"Beh\")\n",
        "\n",
        "cow = Cow()\n",
        "sheep = Sheep()\n",
        "cow.sound()\n",
        "sheep.sound()"
      ],
      "metadata": {
        "colab": {
          "base_uri": "https://localhost:8080/"
        },
        "id": "sUhu4Yo0A8WE",
        "outputId": "340a4692-f5bf-44ef-d70c-8f1e5ccb7e1e"
      },
      "execution_count": 10,
      "outputs": [
        {
          "output_type": "stream",
          "name": "stdout",
          "text": [
            "moo!\n",
            "Beh\n"
          ]
        }
      ]
    },
    {
      "cell_type": "markdown",
      "source": [],
      "metadata": {
        "id": "Jg_c9oCiGDB9"
      }
    },
    {
      "cell_type": "code",
      "source": [
        "#17. Create a class Book with attributes title, author, and year_published. Add a method get_book_info() that\n",
        "#    returns a formatted string with the book's details.\n",
        "class Book:\n",
        "    def __init__(self, title, author, year_published):\n",
        "        self.title = title\n",
        "        self.author = author\n",
        "        self.year_published = year_published\n",
        "\n",
        "    def get_book_info(self):\n",
        "        return f\"Title: {self.title}\\nAuthor: {self.author}\\nYear Published: {self.year_published}\"\n",
        "\n",
        "book = Book(\"The Guide\", \"RK Narayan\", 1958)\n",
        "print(book.get_book_info())"
      ],
      "metadata": {
        "colab": {
          "base_uri": "https://localhost:8080/"
        },
        "id": "NkqGDPV-A8ki",
        "outputId": "5d4d9980-b04a-4be0-8faf-b3c01acca4c4"
      },
      "execution_count": 14,
      "outputs": [
        {
          "output_type": "stream",
          "name": "stdout",
          "text": [
            "Title: The Guide\n",
            "Author: RK Narayan\n",
            "Year Published: 1958\n"
          ]
        }
      ]
    },
    {
      "cell_type": "code",
      "source": [
        "#18. Create a class House with attributes address and price. Create a derived class Mansion that adds an\n",
        "#    attribute number_of_rooms.\n",
        "class House:\n",
        "    def __init__(self, address, price):\n",
        "        self.address = address\n",
        "        self.price = price\n",
        "\n",
        "class Mansion(House):\n",
        "    def __init__(self, address, price, number_of_rooms):\n",
        "        super().__init__(address, price)\n",
        "        self.number_of_rooms = number_of_rooms\n",
        "\n",
        "mansion = Mansion(\"123 shastri nagar\", 250000, 8)\n",
        "print(mansion.address)\n",
        "print(mansion.price)\n",
        "print(mansion.number_of_rooms)\n"
      ],
      "metadata": {
        "colab": {
          "base_uri": "https://localhost:8080/"
        },
        "id": "AMq-5-hBGhfe",
        "outputId": "fa3a7192-df8c-4dd5-91f2-6004ea90887a"
      },
      "execution_count": 15,
      "outputs": [
        {
          "output_type": "stream",
          "name": "stdout",
          "text": [
            "123 shastri nagar\n",
            "250000\n",
            "8\n"
          ]
        }
      ]
    }
  ]
}